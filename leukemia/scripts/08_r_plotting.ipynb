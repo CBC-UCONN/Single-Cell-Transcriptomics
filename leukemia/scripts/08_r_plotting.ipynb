{
 "cells": [
  {
   "cell_type": "code",
   "execution_count": null,
   "id": "d73030f6",
   "metadata": {
    "vscode": {
     "languageId": "plaintext"
    }
   },
   "outputs": [],
   "source": [
    "library(Seurat)\n",
    "library(sceasy)\n",
    "\n",
    "data <- sceasy::convertFormat(\"../analysis_results/06_annotation.h5ad\", \n",
    "                            from = \"anndata\", \n",
    "                            to = \"seurat\",\n",
    "                            outFile = NULL)\n",
    "\n",
    "data"
   ]
  },
  {
   "cell_type": "code",
   "execution_count": null,
   "id": "37869c32",
   "metadata": {
    "vscode": {
     "languageId": "plaintext"
    }
   },
   "outputs": [],
   "source": [
    "data@meta.data"
   ]
  },
  {
   "cell_type": "code",
   "execution_count": null,
   "id": "ed4d5c79",
   "metadata": {
    "vscode": {
     "languageId": "plaintext"
    }
   },
   "outputs": [],
   "source": [
    "data <- RunUMAP(data, dims = 1:10)"
   ]
  },
  {
   "cell_type": "code",
   "execution_count": null,
   "id": "4b495fa3",
   "metadata": {
    "vscode": {
     "languageId": "plaintext"
    }
   },
   "outputs": [],
   "source": [
    "DimPlot(object = data, reduction = \"umap\", group.by = \"sample\")"
   ]
  },
  {
   "cell_type": "code",
   "execution_count": null,
   "id": "623a95ea",
   "metadata": {
    "vscode": {
     "languageId": "plaintext"
    }
   },
   "outputs": [],
   "source": [
    "DimPlot(object = data, reduction = \"umap\", group.by = \"celltypist_cell_label_coarse\")"
   ]
  }
 ],
 "metadata": {
  "language_info": {
   "name": "python"
  }
 },
 "nbformat": 4,
 "nbformat_minor": 5
}
