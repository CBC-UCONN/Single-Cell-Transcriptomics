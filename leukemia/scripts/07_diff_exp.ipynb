{
 "cells": [
  {
   "cell_type": "code",
   "execution_count": 1,
   "id": "b3b556c7-9885-411f-acfa-c18fa3cebe8e",
   "metadata": {},
   "outputs": [],
   "source": [
    "import warnings\n",
    "\n",
    "warnings.filterwarnings(\"ignore\")\n",
    "\n",
    "import logging\n",
    "import random\n",
    "\n",
    "import anndata2ri\n",
    "import matplotlib.pyplot as plt\n",
    "import numpy as np\n",
    "import pandas as pd\n",
    "import rpy2.rinterface_lib.callbacks\n",
    "import scanpy as sc\n",
    "import seaborn as sns\n",
    "from rpy2.robjects import pandas2ri\n",
    "\n",
    "sc.settings.verbosity = 0\n",
    "rpy2.rinterface_lib.callbacks.logger.setLevel(logging.ERROR)\n",
    "\n",
    "pandas2ri.activate()\n",
    "anndata2ri.activate()\n",
    "\n",
    "%load_ext rpy2.ipython"
   ]
  },
  {
   "cell_type": "code",
   "execution_count": 113,
   "id": "33faa8d9-3802-438a-a7ad-38bf8cf2783a",
   "metadata": {},
   "outputs": [],
   "source": [
    "%%R\n",
    "library(edgeR)\n",
    "library(limma)\n"
   ]
  },
  {
   "cell_type": "markdown",
   "id": "a841a0d0-dd4d-4072-a699-cb0cff1999fd",
   "metadata": {},
   "source": [
    "# Read data from file"
   ]
  },
  {
   "cell_type": "code",
   "execution_count": null,
   "id": "dafd23bf-2b14-4de9-9add-ea342abbaa0a",
   "metadata": {},
   "outputs": [],
   "source": [
    "adata = sc.read(\"../analysis_results/07_analysis.h5ad\")"
   ]
  },
  {
   "cell_type": "markdown",
   "id": "a853f248-7e6b-409f-9791-3cbb2cececdd",
   "metadata": {},
   "source": [
    "We can look at the counts of cell types in each sample to see which cell types have adequate sample sizes"
   ]
  },
  {
   "cell_type": "code",
   "execution_count": 4,
   "id": "dd44cd1d-f9a4-4b5a-ae64-35aad5439a82",
   "metadata": {},
   "outputs": [
    {
     "data": {
      "text/html": [
       "<div>\n",
       "<style scoped>\n",
       "    .dataframe tbody tr th:only-of-type {\n",
       "        vertical-align: middle;\n",
       "    }\n",
       "\n",
       "    .dataframe tbody tr th {\n",
       "        vertical-align: top;\n",
       "    }\n",
       "\n",
       "    .dataframe thead th {\n",
       "        text-align: right;\n",
       "    }\n",
       "</style>\n",
       "<table border=\"1\" class=\"dataframe\">\n",
       "  <thead>\n",
       "    <tr style=\"text-align: right;\">\n",
       "      <th>sample</th>\n",
       "      <th>ETV6-RUNX1_1</th>\n",
       "      <th>ETV6-RUNX1_2</th>\n",
       "      <th>ETV6-RUNX1_3</th>\n",
       "      <th>PBMMC_1</th>\n",
       "      <th>PBMMC_2</th>\n",
       "      <th>PBMMC_3</th>\n",
       "      <th>PRE-T_1</th>\n",
       "      <th>PRE-T_2</th>\n",
       "    </tr>\n",
       "    <tr>\n",
       "      <th>celltypist_cell_label_coarse</th>\n",
       "      <th></th>\n",
       "      <th></th>\n",
       "      <th></th>\n",
       "      <th></th>\n",
       "      <th></th>\n",
       "      <th></th>\n",
       "      <th></th>\n",
       "      <th></th>\n",
       "    </tr>\n",
       "  </thead>\n",
       "  <tbody>\n",
       "    <tr>\n",
       "      <th>B cells</th>\n",
       "      <td>144</td>\n",
       "      <td>285</td>\n",
       "      <td>177</td>\n",
       "      <td>30</td>\n",
       "      <td>48</td>\n",
       "      <td>191</td>\n",
       "      <td>9</td>\n",
       "      <td>47</td>\n",
       "    </tr>\n",
       "    <tr>\n",
       "      <th>B-cell lineage</th>\n",
       "      <td>1836</td>\n",
       "      <td>4974</td>\n",
       "      <td>1299</td>\n",
       "      <td>181</td>\n",
       "      <td>117</td>\n",
       "      <td>309</td>\n",
       "      <td>3</td>\n",
       "      <td>6</td>\n",
       "    </tr>\n",
       "    <tr>\n",
       "      <th>DC</th>\n",
       "      <td>0</td>\n",
       "      <td>0</td>\n",
       "      <td>0</td>\n",
       "      <td>15</td>\n",
       "      <td>51</td>\n",
       "      <td>57</td>\n",
       "      <td>0</td>\n",
       "      <td>6</td>\n",
       "    </tr>\n",
       "    <tr>\n",
       "      <th>Double-negative thymocytes</th>\n",
       "      <td>19</td>\n",
       "      <td>7</td>\n",
       "      <td>2</td>\n",
       "      <td>14</td>\n",
       "      <td>19</td>\n",
       "      <td>13</td>\n",
       "      <td>2291</td>\n",
       "      <td>947</td>\n",
       "    </tr>\n",
       "    <tr>\n",
       "      <th>Erythroid</th>\n",
       "      <td>7</td>\n",
       "      <td>6</td>\n",
       "      <td>3</td>\n",
       "      <td>8</td>\n",
       "      <td>1707</td>\n",
       "      <td>11</td>\n",
       "      <td>8</td>\n",
       "      <td>7</td>\n",
       "    </tr>\n",
       "    <tr>\n",
       "      <th>HSC/MPP</th>\n",
       "      <td>0</td>\n",
       "      <td>5</td>\n",
       "      <td>14</td>\n",
       "      <td>2</td>\n",
       "      <td>39</td>\n",
       "      <td>56</td>\n",
       "      <td>2</td>\n",
       "      <td>14</td>\n",
       "    </tr>\n",
       "    <tr>\n",
       "      <th>Monocytes</th>\n",
       "      <td>0</td>\n",
       "      <td>5</td>\n",
       "      <td>13</td>\n",
       "      <td>83</td>\n",
       "      <td>102</td>\n",
       "      <td>371</td>\n",
       "      <td>1</td>\n",
       "      <td>94</td>\n",
       "    </tr>\n",
       "    <tr>\n",
       "      <th>Plasma cells</th>\n",
       "      <td>0</td>\n",
       "      <td>0</td>\n",
       "      <td>1</td>\n",
       "      <td>0</td>\n",
       "      <td>10</td>\n",
       "      <td>0</td>\n",
       "      <td>0</td>\n",
       "      <td>0</td>\n",
       "    </tr>\n",
       "    <tr>\n",
       "      <th>Promyelocytes</th>\n",
       "      <td>0</td>\n",
       "      <td>0</td>\n",
       "      <td>0</td>\n",
       "      <td>16</td>\n",
       "      <td>30</td>\n",
       "      <td>81</td>\n",
       "      <td>0</td>\n",
       "      <td>12</td>\n",
       "    </tr>\n",
       "    <tr>\n",
       "      <th>T cells</th>\n",
       "      <td>11</td>\n",
       "      <td>87</td>\n",
       "      <td>1484</td>\n",
       "      <td>190</td>\n",
       "      <td>494</td>\n",
       "      <td>828</td>\n",
       "      <td>154</td>\n",
       "      <td>1284</td>\n",
       "    </tr>\n",
       "    <tr>\n",
       "      <th>pDC</th>\n",
       "      <td>0</td>\n",
       "      <td>0</td>\n",
       "      <td>0</td>\n",
       "      <td>12</td>\n",
       "      <td>35</td>\n",
       "      <td>28</td>\n",
       "      <td>0</td>\n",
       "      <td>1</td>\n",
       "    </tr>\n",
       "  </tbody>\n",
       "</table>\n",
       "</div>"
      ],
      "text/plain": [
       "sample                        ETV6-RUNX1_1  ETV6-RUNX1_2  ETV6-RUNX1_3  \\\n",
       "celltypist_cell_label_coarse                                             \n",
       "B cells                                144           285           177   \n",
       "B-cell lineage                        1836          4974          1299   \n",
       "DC                                       0             0             0   \n",
       "Double-negative thymocytes              19             7             2   \n",
       "Erythroid                                7             6             3   \n",
       "HSC/MPP                                  0             5            14   \n",
       "Monocytes                                0             5            13   \n",
       "Plasma cells                             0             0             1   \n",
       "Promyelocytes                            0             0             0   \n",
       "T cells                                 11            87          1484   \n",
       "pDC                                      0             0             0   \n",
       "\n",
       "sample                        PBMMC_1  PBMMC_2  PBMMC_3  PRE-T_1  PRE-T_2  \n",
       "celltypist_cell_label_coarse                                               \n",
       "B cells                            30       48      191        9       47  \n",
       "B-cell lineage                    181      117      309        3        6  \n",
       "DC                                 15       51       57        0        6  \n",
       "Double-negative thymocytes         14       19       13     2291      947  \n",
       "Erythroid                           8     1707       11        8        7  \n",
       "HSC/MPP                             2       39       56        2       14  \n",
       "Monocytes                          83      102      371        1       94  \n",
       "Plasma cells                        0       10        0        0        0  \n",
       "Promyelocytes                      16       30       81        0       12  \n",
       "T cells                           190      494      828      154     1284  \n",
       "pDC                                12       35       28        0        1  "
      ]
     },
     "execution_count": 4,
     "metadata": {},
     "output_type": "execute_result"
    }
   ],
   "source": [
    "pd.crosstab(adata.obs[\"celltypist_cell_label_coarse\"], adata.obs[\"sample\"])"
   ]
  },
  {
   "cell_type": "markdown",
   "id": "ed3eb7c9-33d1-40af-87e6-8f2b22307f14",
   "metadata": {},
   "source": [
    "Make a column with the condition of cells in each sample"
   ]
  },
  {
   "cell_type": "code",
   "execution_count": 5,
   "id": "90b6f9f4-46f6-4ba5-bbd4-ebc5ffa8ea20",
   "metadata": {},
   "outputs": [],
   "source": [
    "condition = {\n",
    "    \"PBMMC_1\": \"healthy\", \n",
    "    \"PBMMC_2\": \"healthy\", \n",
    "    \"PBMMC_3\": \"healthy\", \n",
    "    \"PRE-T_1\": \"cancer_a\", \n",
    "    \"PRE-T_2\": \"cancer_a\",\n",
    "    \"ETV6-RUNX1_1\": \"cancer_b\",\n",
    "    \"ETV6-RUNX1_2\": \"cancer_b\",\n",
    "    \"ETV6-RUNX1_3\": \"cancer_b\"}\n",
    "\n",
    "adata.obs[\"condition\"] = adata.obs[\"sample\"].map(condition)"
   ]
  },
  {
   "cell_type": "markdown",
   "id": "a4182715-5110-47c4-92ce-19b252af871d",
   "metadata": {},
   "source": [
    "Create a group column combining the sample id and the treatment condition. This will be useful later on."
   ]
  },
  {
   "cell_type": "code",
   "execution_count": 6,
   "id": "e81990bb-d2fd-4fdf-8880-5a4bd6623e20",
   "metadata": {},
   "outputs": [],
   "source": [
    "adata.obs[\"group\"] = [f\"{rep}_{l}\" for rep, l in zip(adata.obs[\"sample\"], adata.obs[\"condition\"])]"
   ]
  },
  {
   "cell_type": "markdown",
   "id": "bf78276b-c3b7-4228-be03-a344ef738be4",
   "metadata": {},
   "source": [
    "Create more easily typed cell type column and remove characters that will be problematic in R"
   ]
  },
  {
   "cell_type": "code",
   "execution_count": 7,
   "id": "274b8904-3f57-420f-8363-e3616234012e",
   "metadata": {},
   "outputs": [],
   "source": [
    "adata.obs[\"cell_type\"] = adata.obs[\"celltypist_cell_label_coarse\"]\n",
    "adata.obs[\"cell_type\"] = [ct.replace(\" \", \"_\") for ct in adata.obs[\"cell_type\"]]\n",
    "adata.obs[\"cell_type\"] = [ct.replace(\"+\", \"\") for ct in adata.obs[\"cell_type\"]]"
   ]
  },
  {
   "cell_type": "markdown",
   "id": "1a487f23-ce12-46af-8464-53e494d3143f",
   "metadata": {},
   "source": [
    "Set categorical metadata to category type"
   ]
  },
  {
   "cell_type": "code",
   "execution_count": 8,
   "id": "f7bb3938-7489-428e-9e37-310d808e2eea",
   "metadata": {},
   "outputs": [],
   "source": [
    "adata.obs[\"sample\"] = adata.obs[\"sample\"].astype(\"category\")\n",
    "adata.obs[\"condition\"] = adata.obs[\"condition\"].astype(\"category\")\n",
    "adata.obs[\"group\"] = adata.obs[\"group\"].astype(\"category\")\n",
    "adata.obs[\"cell_type\"] = adata.obs[\"cell_type\"].astype(\"category\")\n"
   ]
  },
  {
   "cell_type": "markdown",
   "id": "2e486121-cbce-452c-acf7-2977670958ea",
   "metadata": {},
   "source": [
    "Set counts to the original raw counts"
   ]
  },
  {
   "cell_type": "code",
   "execution_count": 9,
   "id": "06f3a6a7-c6c2-40c6-b23b-8b2f0ccc80e5",
   "metadata": {},
   "outputs": [],
   "source": [
    "adata.X = adata.layers[\"counts\"].copy()"
   ]
  },
  {
   "cell_type": "markdown",
   "id": "fd8ca0a9-29ee-44ad-bafb-bc15948510de",
   "metadata": {},
   "source": [
    "Function for filtering donors and creating pseudo-replicates"
   ]
  },
  {
   "cell_type": "code",
   "execution_count": 10,
   "id": "4ffb6b48-83fe-4917-b22a-07949515f90f",
   "metadata": {},
   "outputs": [],
   "source": [
    "NUM_OF_CELL_PER_DONOR = 30\n",
    "\n",
    "def aggregate_and_filter(\n",
    "    adata,\n",
    "    cell_identity,\n",
    "    donor_key=\"group\",\n",
    "    condition_key=\"condition\",\n",
    "    cell_identity_key=\"cell_type\",\n",
    "    obs_to_keep=None,  # which additional metadata to keep, e.g. gender, age, etc.\n",
    "    replicates_per_patient=1,\n",
    "):\n",
    "    # subset adata to the given cell identity\n",
    "    if obs_to_keep is None:\n",
    "        obs_to_keep = []\n",
    "    adata_cell_pop = adata[adata.obs[cell_identity_key] == cell_identity].copy()\n",
    "    # check which donors to keep according to the number of cells specified with NUM_OF_CELL_PER_DONOR\n",
    "    size_by_donor = adata_cell_pop.obs.groupby([donor_key]).size()\n",
    "    donors_to_drop = [\n",
    "        donor\n",
    "        for donor in size_by_donor.index\n",
    "        if size_by_donor[donor] <= NUM_OF_CELL_PER_DONOR\n",
    "    ]\n",
    "    if len(donors_to_drop) > 0:\n",
    "        print(\"Dropping the following samples:\")\n",
    "        print(donors_to_drop)\n",
    "    df = pd.DataFrame(columns=[*adata_cell_pop.var_names, *obs_to_keep])\n",
    "\n",
    "    adata_cell_pop.obs[donor_key] = adata_cell_pop.obs[donor_key].astype(\"category\")\n",
    "    for i, donor in enumerate(donors := adata_cell_pop.obs[donor_key].cat.categories):\n",
    "        print(f\"\\tProcessing donor {i+1} out of {len(donors)}...\", end=\"\\r\")\n",
    "        if donor not in donors_to_drop:\n",
    "            adata_donor = adata_cell_pop[adata_cell_pop.obs[donor_key] == donor]\n",
    "            # create replicates for each donor\n",
    "            indices = list(adata_donor.obs_names)\n",
    "            random.shuffle(indices)\n",
    "            indices = np.array_split(np.array(indices), replicates_per_patient)\n",
    "            for i, rep_idx in enumerate(indices):\n",
    "                adata_replicate = adata_donor[rep_idx]\n",
    "                # specify how to aggregate: sum gene expression for each gene for each donor and also keep the condition information\n",
    "                agg_dict = {gene: \"sum\" for gene in adata_replicate.var_names}\n",
    "                for obs in obs_to_keep:\n",
    "                    agg_dict[obs] = \"first\"\n",
    "                # create a df with all genes, donor and condition info\n",
    "                df_donor = pd.DataFrame(adata_replicate.X.toarray())\n",
    "                df_donor.index = adata_replicate.obs_names\n",
    "                df_donor.columns = adata_replicate.var_names\n",
    "                df_donor = df_donor.join(adata_replicate.obs[obs_to_keep])\n",
    "                # aggregate\n",
    "                df_donor = df_donor.groupby(donor_key).agg(agg_dict)\n",
    "                df_donor[donor_key] = donor\n",
    "                df.loc[f\"donor_{donor}_{i}\"] = df_donor.loc[donor]\n",
    "    print(\"\\n\")\n",
    "    # create AnnData object from the df\n",
    "    adata_cell_pop = sc.AnnData(\n",
    "        df[adata_cell_pop.var_names], obs=df.drop(columns=adata_cell_pop.var_names)\n",
    "    )\n",
    "    return adata_cell_pop"
   ]
  },
  {
   "cell_type": "code",
   "execution_count": 12,
   "id": "f23e878f-c7a4-464d-b5da-a6ad1bd457d8",
   "metadata": {},
   "outputs": [],
   "source": [
    "obs_to_keep = [\"condition\", \"cell_type\", \"sample\", \"group\"]"
   ]
  },
  {
   "cell_type": "code",
   "execution_count": 13,
   "id": "8e13e760-8af3-4f8b-aa19-8d988b53eded",
   "metadata": {},
   "outputs": [
    {
     "name": "stdout",
     "output_type": "stream",
     "text": [
      "Dropping the following samples:\n",
      "['ETV6-RUNX1_1_cancer_b']\n",
      "\tProcessing donor 8 out of 8...\n",
      "\n"
     ]
    }
   ],
   "source": [
    "adata_pb = aggregate_and_filter(adata, cell_identity=\"T_cells\", \n",
    "                                obs_to_keep=obs_to_keep, replicates_per_patient=2)"
   ]
  },
  {
   "cell_type": "code",
   "execution_count": 14,
   "id": "68bcde1e-b2ef-4915-9aac-67cd588f0965",
   "metadata": {},
   "outputs": [
    {
     "data": {
      "text/plain": [
       "AnnData object with n_obs × n_vars = 14 × 17658\n",
       "    obs: 'condition', 'cell_type', 'sample', 'group'"
      ]
     },
     "execution_count": 14,
     "metadata": {},
     "output_type": "execute_result"
    }
   ],
   "source": [
    "adata_pb"
   ]
  },
  {
   "cell_type": "code",
   "execution_count": 15,
   "id": "edee9413-d9e1-4c71-bbd6-d295d39dfb4a",
   "metadata": {},
   "outputs": [],
   "source": [
    "adata_pb.layers['counts'] = adata_pb.X.copy()"
   ]
  },
  {
   "cell_type": "code",
   "execution_count": 16,
   "id": "19ddd77f-a805-4403-958a-ead04533c44a",
   "metadata": {},
   "outputs": [],
   "source": [
    "sc.pp.normalize_total(adata_pb, target_sum=1e6)\n",
    "sc.pp.log1p(adata_pb)\n",
    "sc.pp.pca(adata_pb)"
   ]
  },
  {
   "cell_type": "code",
   "execution_count": 17,
   "id": "14c65acc-4ce9-497a-b51b-12ae8567d72b",
   "metadata": {},
   "outputs": [],
   "source": [
    "adata_pb.obs[\"lib_size\"] = np.sum(adata_pb.layers[\"counts\"], axis=1)\n",
    "adata_pb.obs[\"log_lib_size\"] = np.log(np.float64(adata_pb.obs[\"lib_size\"]))"
   ]
  },
  {
   "cell_type": "code",
   "execution_count": 18,
   "id": "203e5c04-bad1-4d78-b5f2-4be60958a31c",
   "metadata": {},
   "outputs": [
    {
     "data": {
      "image/png": "[encoded data removed]",
      "text/plain": [
       "<Figure size 1455.6x960 with 4 Axes>"
      ]
     },
     "metadata": {},
     "output_type": "display_data"
    }
   ],
   "source": [
    "sc.pl.pca(adata_pb, color=[\"condition\", \"sample\", \"lib_size\"], ncols=2, size=300)\n"
   ]
  },
  {
   "cell_type": "markdown",
   "id": "4c3d32a2-262d-4979-9183-9f6303ce5f8e",
   "metadata": {},
   "source": [
    "Change back to raw since it is required by edgeR"
   ]
  },
  {
   "cell_type": "code",
   "execution_count": 19,
   "id": "3e0886a6-7e7c-481f-b6fb-a9c10cb591fe",
   "metadata": {},
   "outputs": [],
   "source": [
    "adata_pb.X = adata_pb.layers['counts'].copy()"
   ]
  },
  {
   "cell_type": "code",
   "execution_count": 71,
   "id": "6a60e63f-80a4-49d5-8ee1-a721c391bbdf",
   "metadata": {},
   "outputs": [],
   "source": [
    "counts = adata_pb.X\n",
    "genes = adata_pb.var_names.tolist()\n",
    "samples = adata_pb.obs[\"sample\"].tolist()\n",
    "condition = adata_pb.obs[\"condition\"].tolist()"
   ]
  },
  {
   "cell_type": "code",
   "execution_count": null,
   "id": "097c1d07-5ba5-4cfd-9847-d1c3cbd60079",
   "metadata": {},
   "outputs": [
    {
     "name": "stdout",
     "output_type": "stream",
     "text": [
      "[1] \"Dimensions before subsetting:\"\n",
      "[1] 8867   14\n",
      "[1] \"\"\n",
      "[1] \"Dimensions after subsetting:\"\n",
      "[1] 8867   14\n",
      "[1] \"\"\n"
     ]
    }
   ],
   "source": [
    "%%R -i counts -i samples -i genes -i condition\n",
    "\n",
    "rownames(counts) <- genes\n",
    "colnames(counts) <- samples\n",
    "\n",
    "dge <- DGEList(counts = counts, \n",
    "               group = condition,\n",
    "               remove.zeros = TRUE)\n",
    "\n",
    "# filter out genes with low counts\n",
    "print(\"Dimensions before subsetting:\")\n",
    "print(dim(dge))\n",
    "print(\"\")\n",
    "keep <- filterByExpr(dge)\n",
    "dge <- dge[keep, , keep.lib.sizes=FALSE]\n",
    "print(\"Dimensions after subsetting:\")\n",
    "print(dim(dge))\n",
    "print(\"\")\n",
    "\n",
    "\n",
    "dge <- calcNormFactors(dge)\n",
    "\n",
    "design <- model.matrix(~0 + group, data=dge$samples)\n",
    "\n",
    "y <- estimateDisp(dge, design=design)\n",
    "\n",
    "fit <- glmQLFit(y, design)\n"
   ]
  },
  {
   "cell_type": "code",
   "execution_count": 102,
   "id": "478f36c1-3d8e-4da2-a2ff-ce7506e45a0b",
   "metadata": {},
   "outputs": [
    {
     "data": {
      "image/png": "[encoded data removed]",
      "text/plain": [
       "<IPython.core.display.Image object>"
      ]
     },
     "metadata": {},
     "output_type": "display_data"
    }
   ],
   "source": [
    "%%R\n",
    "plotMDS(y, col=ifelse(y$samples$group == \"stim\", \"red\", \"blue\"))"
   ]
  },
  {
   "cell_type": "code",
   "execution_count": 103,
   "id": "a48df8a0-bc2c-4bcb-a95e-d499260f3603",
   "metadata": {},
   "outputs": [
    {
     "data": {
      "image/png": "[encoded data removed]",
      "text/plain": [
       "<IPython.core.display.Image object>"
      ]
     },
     "metadata": {},
     "output_type": "display_data"
    }
   ],
   "source": [
    "%%R\n",
    "plotBCV(y)"
   ]
  },
  {
   "cell_type": "code",
   "execution_count": 104,
   "id": "fd4387c5-ea80-476e-817f-1eb98040415c",
   "metadata": {},
   "outputs": [
    {
     "name": "stdout",
     "output_type": "stream",
     "text": [
      "[1] \"groupcancer_a\" \"groupcancer_b\" \"grouphealthy\" \n"
     ]
    }
   ],
   "source": [
    "%%R \n",
    "colnames(y$design)"
   ]
  },
  {
   "cell_type": "code",
   "execution_count": 105,
   "id": "53e5fd4f-f367-4a01-8a04-de244747dd8f",
   "metadata": {},
   "outputs": [],
   "source": [
    "%%R \n",
    "contrasts <- makeContrasts(\n",
    "    healthy_vs_cancer = grouphealthy - (groupcancer_a + groupcancer_b)/2,\n",
    "    cancer_a_vs_cancer_b = groupcancer_a - groupcancer_b,\n",
    "    levels=colnames(design))"
   ]
  },
  {
   "cell_type": "code",
   "execution_count": 106,
   "id": "8dcdd0d3-eec6-4758-b035-a3f1dd961bfe",
   "metadata": {},
   "outputs": [],
   "source": [
    "%%R -o tt\n",
    "\n",
    "qlf <- glmQLFTest(fit, contrast=contrasts)\n",
    "\n",
    "# get all of the DE genes and calculate Benjamini-Hochberg adjusted FDR\n",
    "tt <- topTags(qlf, n = Inf)\n",
    "tt <- tt$table"
   ]
  },
  {
   "cell_type": "code",
   "execution_count": 118,
   "id": "ba5615d0-1c22-488c-9fcc-78ccd1c7725b",
   "metadata": {},
   "outputs": [
    {
     "name": "stdout",
     "output_type": "stream",
     "text": [
      "     [,1]\n",
      "[1,] 5584\n",
      "[2,] 3283\n"
     ]
    }
   ],
   "source": [
    "%%R \n",
    "results <- decideTests(qlf)\n",
    "summary(results)"
   ]
  },
  {
   "cell_type": "code",
   "execution_count": 107,
   "id": "68971c0f-ed68-4a97-af30-5057854f09df",
   "metadata": {},
   "outputs": [
    {
     "data": {
      "text/html": [
       "<div>\n",
       "<style scoped>\n",
       "    .dataframe tbody tr th:only-of-type {\n",
       "        vertical-align: middle;\n",
       "    }\n",
       "\n",
       "    .dataframe tbody tr th {\n",
       "        vertical-align: top;\n",
       "    }\n",
       "\n",
       "    .dataframe thead th {\n",
       "        text-align: right;\n",
       "    }\n",
       "</style>\n",
       "<table border=\"1\" class=\"dataframe\">\n",
       "  <thead>\n",
       "    <tr style=\"text-align: right;\">\n",
       "      <th></th>\n",
       "      <th>logFC.healthy_vs_cancer</th>\n",
       "      <th>logFC.cancer_a_vs_cancer_b</th>\n",
       "      <th>logCPM</th>\n",
       "      <th>F</th>\n",
       "      <th>PValue</th>\n",
       "      <th>FDR</th>\n",
       "    </tr>\n",
       "  </thead>\n",
       "  <tbody>\n",
       "    <tr>\n",
       "      <th>MYO7B</th>\n",
       "      <td>-6.504186</td>\n",
       "      <td>6.207328</td>\n",
       "      <td>6.472182</td>\n",
       "      <td>302.796728</td>\n",
       "      <td>2.085739e-14</td>\n",
       "      <td>1.849425e-10</td>\n",
       "    </tr>\n",
       "    <tr>\n",
       "      <th>CASC15</th>\n",
       "      <td>-5.204915</td>\n",
       "      <td>6.252945</td>\n",
       "      <td>7.077710</td>\n",
       "      <td>227.557895</td>\n",
       "      <td>2.401420e-13</td>\n",
       "      <td>1.064669e-09</td>\n",
       "    </tr>\n",
       "    <tr>\n",
       "      <th>TPO</th>\n",
       "      <td>-3.430737</td>\n",
       "      <td>10.278856</td>\n",
       "      <td>5.556794</td>\n",
       "      <td>289.352692</td>\n",
       "      <td>1.598717e-12</td>\n",
       "      <td>4.725275e-09</td>\n",
       "    </tr>\n",
       "    <tr>\n",
       "      <th>SOX4</th>\n",
       "      <td>-2.064771</td>\n",
       "      <td>4.595820</td>\n",
       "      <td>8.937584</td>\n",
       "      <td>171.945292</td>\n",
       "      <td>2.573386e-12</td>\n",
       "      <td>4.927840e-09</td>\n",
       "    </tr>\n",
       "    <tr>\n",
       "      <th>LPAR6</th>\n",
       "      <td>-2.357235</td>\n",
       "      <td>2.268639</td>\n",
       "      <td>6.682848</td>\n",
       "      <td>167.019763</td>\n",
       "      <td>3.285419e-12</td>\n",
       "      <td>4.927840e-09</td>\n",
       "    </tr>\n",
       "  </tbody>\n",
       "</table>\n",
       "</div>"
      ],
      "text/plain": [
       "        logFC.healthy_vs_cancer  logFC.cancer_a_vs_cancer_b    logCPM  \\\n",
       "MYO7B                 -6.504186                    6.207328  6.472182   \n",
       "CASC15                -5.204915                    6.252945  7.077710   \n",
       "TPO                   -3.430737                   10.278856  5.556794   \n",
       "SOX4                  -2.064771                    4.595820  8.937584   \n",
       "LPAR6                 -2.357235                    2.268639  6.682848   \n",
       "\n",
       "                 F        PValue           FDR  \n",
       "MYO7B   302.796728  2.085739e-14  1.849425e-10  \n",
       "CASC15  227.557895  2.401420e-13  1.064669e-09  \n",
       "TPO     289.352692  1.598717e-12  4.725275e-09  \n",
       "SOX4    171.945292  2.573386e-12  4.927840e-09  \n",
       "LPAR6   167.019763  3.285419e-12  4.927840e-09  "
      ]
     },
     "execution_count": 107,
     "metadata": {},
     "output_type": "execute_result"
    }
   ],
   "source": [
    "tt[:5]"
   ]
  },
  {
   "cell_type": "code",
   "execution_count": 108,
   "id": "abbf0fb6-0e20-411d-a7cf-108a9c3a280b",
   "metadata": {},
   "outputs": [
    {
     "name": "stdout",
     "output_type": "stream",
     "text": [
      "\n",
      "Error in plotSmear(qlf, de.tags = rownames(tt)[which(tt$FDR < 0.01)]) : \n",
      "  table$logFC slot in DGELRT object is NULL. We cannot produce an MA (smear) plot if more than one coefficient from the GLM is being tested in the likelihood ratio test as this results in more one logFC value per gene---one for each coefficient.\n"
     ]
    },
    {
     "ename": "RInterpreterError",
     "evalue": "Failed to parse and evaluate line 'plotSmear(qlf, de.tags = rownames(tt)[which(tt$FDR<0.01)])\\n'.\nR error message: 'Error in plotSmear(qlf, de.tags = rownames(tt)[which(tt$FDR < 0.01)]) : \\n  table$logFC slot in DGELRT object is NULL. We cannot produce an MA (smear) plot if more than one coefficient from the GLM is being tested in the likelihood ratio test as this results in more one logFC value per gene---one for each coefficient.'",
     "output_type": "error",
     "traceback": [
      "\u001b[31m---------------------------------------------------------------------------\u001b[39m",
      "\u001b[31mRRuntimeError\u001b[39m                             Traceback (most recent call last)",
      "\u001b[36mFile \u001b[39m\u001b[32m~/.miniforge-xanadu/envs/single-cell/lib/python3.12/site-packages/rpy2/ipython/rmagic.py:385\u001b[39m, in \u001b[36mRMagics.eval\u001b[39m\u001b[34m(self, code)\u001b[39m\n\u001b[32m    383\u001b[39m \u001b[38;5;28;01mtry\u001b[39;00m:\n\u001b[32m    384\u001b[39m     \u001b[38;5;66;03m# Need the newline in case the last line in code is a comment.\u001b[39;00m\n\u001b[32m--> \u001b[39m\u001b[32m385\u001b[39m     value, visible = \u001b[43mro\u001b[49m\u001b[43m.\u001b[49m\u001b[43mr\u001b[49m\u001b[43m(\u001b[49m\u001b[33;43m\"\u001b[39;49m\u001b[33;43mwithVisible(\u001b[39;49m\u001b[33;43m{\u001b[39;49m\u001b[38;5;132;43;01m%s\u001b[39;49;00m\u001b[38;5;130;43;01m\\n\u001b[39;49;00m\u001b[33;43m})\u001b[39;49m\u001b[33;43m\"\u001b[39;49m\u001b[43m \u001b[49m\u001b[43m%\u001b[49m\u001b[43m \u001b[49m\u001b[43mcode\u001b[49m\u001b[43m)\u001b[49m\n\u001b[32m    386\u001b[39m \u001b[38;5;28;01mexcept\u001b[39;00m (ri.embedded.RRuntimeError, \u001b[38;5;167;01mValueError\u001b[39;00m) \u001b[38;5;28;01mas\u001b[39;00m exception:\n\u001b[32m    387\u001b[39m     \u001b[38;5;66;03m# Otherwise next return seems to have copy of error.\u001b[39;00m\n",
      "\u001b[36mFile \u001b[39m\u001b[32m~/.miniforge-xanadu/envs/single-cell/lib/python3.12/site-packages/rpy2/robjects/__init__.py:459\u001b[39m, in \u001b[36mR.__call__\u001b[39m\u001b[34m(self, string)\u001b[39m\n\u001b[32m    458\u001b[39m p = rinterface.parse(string)\n\u001b[32m--> \u001b[39m\u001b[32m459\u001b[39m res = \u001b[38;5;28;43mself\u001b[39;49m\u001b[43m.\u001b[49m\u001b[43meval\u001b[49m\u001b[43m(\u001b[49m\u001b[43mp\u001b[49m\u001b[43m)\u001b[49m\n\u001b[32m    460\u001b[39m \u001b[38;5;28;01mreturn\u001b[39;00m conversion.get_conversion().rpy2py(res)\n",
      "\u001b[36mFile \u001b[39m\u001b[32m~/.miniforge-xanadu/envs/single-cell/lib/python3.12/site-packages/rpy2/robjects/functions.py:208\u001b[39m, in \u001b[36mSignatureTranslatedFunction.__call__\u001b[39m\u001b[34m(self, *args, **kwargs)\u001b[39m\n\u001b[32m    207\u001b[39m         kwargs[r_k] = v\n\u001b[32m--> \u001b[39m\u001b[32m208\u001b[39m \u001b[38;5;28;01mreturn\u001b[39;00m (\u001b[38;5;28;43msuper\u001b[39;49m\u001b[43m(\u001b[49m\u001b[43mSignatureTranslatedFunction\u001b[49m\u001b[43m,\u001b[49m\u001b[43m \u001b[49m\u001b[38;5;28;43mself\u001b[39;49m\u001b[43m)\u001b[49m\n\u001b[32m    209\u001b[39m \u001b[43m        \u001b[49m\u001b[43m.\u001b[49m\u001b[34;43m__call__\u001b[39;49m\u001b[43m(\u001b[49m\u001b[43m*\u001b[49m\u001b[43margs\u001b[49m\u001b[43m,\u001b[49m\u001b[43m \u001b[49m\u001b[43m*\u001b[49m\u001b[43m*\u001b[49m\u001b[43mkwargs\u001b[49m\u001b[43m)\u001b[49m)\n",
      "\u001b[36mFile \u001b[39m\u001b[32m~/.miniforge-xanadu/envs/single-cell/lib/python3.12/site-packages/rpy2/robjects/functions.py:131\u001b[39m, in \u001b[36mFunction.__call__\u001b[39m\u001b[34m(self, *args, **kwargs)\u001b[39m\n\u001b[32m    130\u001b[39m         new_kwargs[k] = cv.py2rpy(v)\n\u001b[32m--> \u001b[39m\u001b[32m131\u001b[39m res = \u001b[38;5;28;43msuper\u001b[39;49m\u001b[43m(\u001b[49m\u001b[43mFunction\u001b[49m\u001b[43m,\u001b[49m\u001b[43m \u001b[49m\u001b[38;5;28;43mself\u001b[39;49m\u001b[43m)\u001b[49m\u001b[43m.\u001b[49m\u001b[34;43m__call__\u001b[39;49m\u001b[43m(\u001b[49m\u001b[43m*\u001b[49m\u001b[43mnew_args\u001b[49m\u001b[43m,\u001b[49m\u001b[43m \u001b[49m\u001b[43m*\u001b[49m\u001b[43m*\u001b[49m\u001b[43mnew_kwargs\u001b[49m\u001b[43m)\u001b[49m\n\u001b[32m    132\u001b[39m res = cv.rpy2py(res)\n",
      "\u001b[36mFile \u001b[39m\u001b[32m~/.miniforge-xanadu/envs/single-cell/lib/python3.12/site-packages/rpy2/rinterface_lib/conversion.py:45\u001b[39m, in \u001b[36m_cdata_res_to_rinterface.<locals>._\u001b[39m\u001b[34m(*args, **kwargs)\u001b[39m\n\u001b[32m     44\u001b[39m \u001b[38;5;28;01mdef\u001b[39;00m\u001b[38;5;250m \u001b[39m\u001b[34m_\u001b[39m(*args, **kwargs):\n\u001b[32m---> \u001b[39m\u001b[32m45\u001b[39m     cdata = \u001b[43mfunction\u001b[49m\u001b[43m(\u001b[49m\u001b[43m*\u001b[49m\u001b[43margs\u001b[49m\u001b[43m,\u001b[49m\u001b[43m \u001b[49m\u001b[43m*\u001b[49m\u001b[43m*\u001b[49m\u001b[43mkwargs\u001b[49m\u001b[43m)\u001b[49m\n\u001b[32m     46\u001b[39m     \u001b[38;5;66;03m# TODO: test cdata is of the expected CType\u001b[39;00m\n",
      "\u001b[36mFile \u001b[39m\u001b[32m~/.miniforge-xanadu/envs/single-cell/lib/python3.12/site-packages/rpy2/rinterface.py:817\u001b[39m, in \u001b[36mSexpClosure.__call__\u001b[39m\u001b[34m(self, *args, **kwargs)\u001b[39m\n\u001b[32m    816\u001b[39m     \u001b[38;5;28;01mif\u001b[39;00m error_occured[\u001b[32m0\u001b[39m]:\n\u001b[32m--> \u001b[39m\u001b[32m817\u001b[39m         \u001b[38;5;28;01mraise\u001b[39;00m embedded.RRuntimeError(_rinterface._geterrmessage())\n\u001b[32m    818\u001b[39m \u001b[38;5;28;01mreturn\u001b[39;00m res\n",
      "\u001b[31mRRuntimeError\u001b[39m: Error in plotSmear(qlf, de.tags = rownames(tt)[which(tt$FDR < 0.01)]) : \n  table$logFC slot in DGELRT object is NULL. We cannot produce an MA (smear) plot if more than one coefficient from the GLM is being tested in the likelihood ratio test as this results in more one logFC value per gene---one for each coefficient.\n",
      "\nDuring handling of the above exception, another exception occurred:\n",
      "\u001b[31mRInterpreterError\u001b[39m                         Traceback (most recent call last)",
      "\u001b[36mCell\u001b[39m\u001b[36m \u001b[39m\u001b[32mIn[108]\u001b[39m\u001b[32m, line 1\u001b[39m\n\u001b[32m----> \u001b[39m\u001b[32m1\u001b[39m \u001b[43mget_ipython\u001b[49m\u001b[43m(\u001b[49m\u001b[43m)\u001b[49m\u001b[43m.\u001b[49m\u001b[43mrun_cell_magic\u001b[49m\u001b[43m(\u001b[49m\u001b[33;43m'\u001b[39;49m\u001b[33;43mR\u001b[39;49m\u001b[33;43m'\u001b[39;49m\u001b[43m,\u001b[49m\u001b[43m \u001b[49m\u001b[33;43m'\u001b[39;49m\u001b[33;43m'\u001b[39;49m\u001b[43m,\u001b[49m\u001b[43m \u001b[49m\u001b[33;43m'\u001b[39;49m\u001b[33;43mplotSmear(qlf, de.tags = rownames(tt)[which(tt$FDR<0.01)])\u001b[39;49m\u001b[38;5;130;43;01m\\n\u001b[39;49;00m\u001b[33;43m'\u001b[39;49m\u001b[43m)\u001b[49m\n",
      "\u001b[36mFile \u001b[39m\u001b[32m~/.miniforge-xanadu/envs/single-cell/lib/python3.12/site-packages/IPython/core/interactiveshell.py:2549\u001b[39m, in \u001b[36mInteractiveShell.run_cell_magic\u001b[39m\u001b[34m(self, magic_name, line, cell)\u001b[39m\n\u001b[32m   2547\u001b[39m \u001b[38;5;28;01mwith\u001b[39;00m \u001b[38;5;28mself\u001b[39m.builtin_trap:\n\u001b[32m   2548\u001b[39m     args = (magic_arg_s, cell)\n\u001b[32m-> \u001b[39m\u001b[32m2549\u001b[39m     result = \u001b[43mfn\u001b[49m\u001b[43m(\u001b[49m\u001b[43m*\u001b[49m\u001b[43margs\u001b[49m\u001b[43m,\u001b[49m\u001b[43m \u001b[49m\u001b[43m*\u001b[49m\u001b[43m*\u001b[49m\u001b[43mkwargs\u001b[49m\u001b[43m)\u001b[49m\n\u001b[32m   2551\u001b[39m \u001b[38;5;66;03m# The code below prevents the output from being displayed\u001b[39;00m\n\u001b[32m   2552\u001b[39m \u001b[38;5;66;03m# when using magics with decorator @output_can_be_silenced\u001b[39;00m\n\u001b[32m   2553\u001b[39m \u001b[38;5;66;03m# when the last Python token in the expression is a ';'.\u001b[39;00m\n\u001b[32m   2554\u001b[39m \u001b[38;5;28;01mif\u001b[39;00m \u001b[38;5;28mgetattr\u001b[39m(fn, magic.MAGIC_OUTPUT_CAN_BE_SILENCED, \u001b[38;5;28;01mFalse\u001b[39;00m):\n",
      "\u001b[36mFile \u001b[39m\u001b[32m~/.miniforge-xanadu/envs/single-cell/lib/python3.12/site-packages/rpy2/ipython/rmagic.py:943\u001b[39m, in \u001b[36mRMagics.R\u001b[39m\u001b[34m(self, line, cell, local_ns)\u001b[39m\n\u001b[32m    941\u001b[39m     \u001b[38;5;28;01mif\u001b[39;00m \u001b[38;5;129;01mnot\u001b[39;00m e.stdout.endswith(e.err):\n\u001b[32m    942\u001b[39m         \u001b[38;5;28mprint\u001b[39m(e.err)\n\u001b[32m--> \u001b[39m\u001b[32m943\u001b[39m     \u001b[38;5;28;01mraise\u001b[39;00m e\n\u001b[32m    944\u001b[39m \u001b[38;5;28;01mfinally\u001b[39;00m:\n\u001b[32m    945\u001b[39m     \u001b[38;5;28;01mif\u001b[39;00m \u001b[38;5;28mself\u001b[39m.device \u001b[38;5;129;01min\u001b[39;00m DEVICES_STATIC:\n",
      "\u001b[36mFile \u001b[39m\u001b[32m~/.miniforge-xanadu/envs/single-cell/lib/python3.12/site-packages/rpy2/ipython/rmagic.py:923\u001b[39m, in \u001b[36mRMagics.R\u001b[39m\u001b[34m(self, line, cell, local_ns)\u001b[39m\n\u001b[32m    921\u001b[39m         return_output = \u001b[38;5;28;01mFalse\u001b[39;00m\n\u001b[32m    922\u001b[39m \u001b[38;5;28;01melse\u001b[39;00m:\n\u001b[32m--> \u001b[39m\u001b[32m923\u001b[39m     text_result, result, visible = \u001b[38;5;28;43mself\u001b[39;49m\u001b[43m.\u001b[49m\u001b[43meval\u001b[49m\u001b[43m(\u001b[49m\u001b[43mcode\u001b[49m\u001b[43m)\u001b[49m\n\u001b[32m    924\u001b[39m     text_output += text_result\n\u001b[32m    925\u001b[39m     \u001b[38;5;28;01mif\u001b[39;00m visible:\n",
      "\u001b[36mFile \u001b[39m\u001b[32m~/.miniforge-xanadu/envs/single-cell/lib/python3.12/site-packages/rpy2/ipython/rmagic.py:389\u001b[39m, in \u001b[36mRMagics.eval\u001b[39m\u001b[34m(self, code)\u001b[39m\n\u001b[32m    386\u001b[39m \u001b[38;5;28;01mexcept\u001b[39;00m (ri.embedded.RRuntimeError, \u001b[38;5;167;01mValueError\u001b[39;00m) \u001b[38;5;28;01mas\u001b[39;00m exception:\n\u001b[32m    387\u001b[39m     \u001b[38;5;66;03m# Otherwise next return seems to have copy of error.\u001b[39;00m\n\u001b[32m    388\u001b[39m     warning_or_other_msg = \u001b[38;5;28mself\u001b[39m.flush()\n\u001b[32m--> \u001b[39m\u001b[32m389\u001b[39m     \u001b[38;5;28;01mraise\u001b[39;00m RInterpreterError(code, \u001b[38;5;28mstr\u001b[39m(exception),\n\u001b[32m    390\u001b[39m                             warning_or_other_msg)\n\u001b[32m    391\u001b[39m text_output = \u001b[38;5;28mself\u001b[39m.flush()\n\u001b[32m    392\u001b[39m \u001b[38;5;28;01mreturn\u001b[39;00m text_output, value, visible[\u001b[32m0\u001b[39m]\n",
      "\u001b[31mRInterpreterError\u001b[39m: Failed to parse and evaluate line 'plotSmear(qlf, de.tags = rownames(tt)[which(tt$FDR<0.01)])\\n'.\nR error message: 'Error in plotSmear(qlf, de.tags = rownames(tt)[which(tt$FDR < 0.01)]) : \\n  table$logFC slot in DGELRT object is NULL. We cannot produce an MA (smear) plot if more than one coefficient from the GLM is being tested in the likelihood ratio test as this results in more one logFC value per gene---one for each coefficient.'"
     ]
    }
   ],
   "source": [
    "%%R\n",
    "plotSmear(qlf, de.tags = rownames(tt)[which(tt$FDR<0.01)])"
   ]
  },
  {
   "cell_type": "code",
   "execution_count": null,
   "id": "ed71db9e-b0a0-4b9a-b23e-7ed12f6f36a4",
   "metadata": {},
   "outputs": [],
   "source": []
  }
 ],
 "metadata": {
  "kernelspec": {
   "display_name": "Python 3 (ipykernel)",
   "language": "python",
   "name": "python3"
  },
  "language_info": {
   "codemirror_mode": {
    "name": "ipython",
    "version": 3
   },
   "file_extension": ".py",
   "mimetype": "text/x-python",
   "name": "python",
   "nbconvert_exporter": "python",
   "pygments_lexer": "ipython3",
   "version": "3.12.11"
  }
 },
 "nbformat": 4,
 "nbformat_minor": 5
}
